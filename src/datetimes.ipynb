{
 "cells": [
  {
   "cell_type": "code",
   "execution_count": 2,
   "id": "e387a759",
   "metadata": {},
   "outputs": [],
   "source": [
    "from datetime import datetime, timedelta\n",
    "from pydantic import BaseModel, Field\n",
    "from typing import Optional\n",
    "\n",
    "input_text = \"I am going to finish up a coding project tonight from 9:00pm to 10:00pm.\""
   ]
  },
  {
   "cell_type": "markdown",
   "id": "062240f0",
   "metadata": {},
   "source": [
    "1. We need to identify all date and time references in the input text\n",
    "- This can be done through keyword inferences and patterns such as the existence of PM or AM, months, days of the week, prefixes like st, th, nd, rd, etc., or other vague keywords like today, tomorrow, next week, etc.\n",
    "2. After doing this, we need to identify the length of each list, given that both must have the same length, and if one is less than the other, we make an implication that the other has the same date or time. With this in mind, we need to keep note that there must always occur a pair of two dates and times.\n",
    "- For this to work, we need to ensure that we get the right datetimes that correspond with each other. This can be done by taking an inference of the order that the dates or times were placed in. For example, a date such as \"tomorrow from 6pm to 7pm\", we can infer that tomorrow at 6pm refers to a date that comes before 7pm because it was referenced before. This is true for more complex requests such as \"From Monday from 5pm to 7pm to Tuesday from 5pm to 7pm.\" Here we see that there are two dates and four times, hwoever each date found has two times that follow it directly after. With this in mind we can infer that monday corresponds to 5pm to 7pm and tuesday is another date that corresponds to the time 5pm to 7pm as well.\n",
    "3. After locating these datetimes, we will onvert them to datetime objects for easier processing going further\n",
    "4. Once we identify the correct start and end times that are being referenced, we need to now filter these times by checking if we are requesting just one date or two. This can be true for task requests that only take noe datetime as input. To do this, we fetch all the events and tasks that already exist for a user, and compare them against the datetimes we found in the input text. If we find a match, we will infer that the input text is not targetting this datetime as a datetime of interest."
   ]
  },
  {
   "cell_type": "code",
   "execution_count": 4,
   "id": "233a4749",
   "metadata": {},
   "outputs": [],
   "source": [
    "class DateTimeSet(BaseModel):\n",
    "    input_tokens: list[str] = Field(default=[], description=\"A list of all the input tokens found within an input text\")\n",
    "    times: list[str] = Field(default=[], description=\"A list of all the times found within an input text\")\n",
    "    dates: list[str] = Field(default=[], description=\"A list of all the dates found within an input text\")\n",
    "    datetimes: list[datetime] = Field(default=[], description=\"A list of all the datetime objects found within an input text\")\n",
    "    target_datetimes: list[tuple[datetime, None]] = Field(default=[], description=\"A list of all the target datetime objects found within an input text as tuples representing start and end or due and None\")\n",
    "    is_event: Optional[bool] = Field(default=False, description=\"Indicates whether the extracted datetimes are part of an event\")\n"
   ]
  },
  {
   "cell_type": "code",
   "execution_count": null,
   "id": "aca29a5e",
   "metadata": {},
   "outputs": [],
   "source": [
    "def fetch_days_ahead(target_day: int, current_day=datetime.now()):\n",
    "    current_week_day = current_day.weekday()\n",
    "    days_ahead = (target_day - current_week_day) % 7\n",
    "    if days_ahead == 0:\n",
    "        days_ahead = 7\n",
    "\n",
    "    return current_day + timedelta(days=days_ahead)\n",
    "\n",
    "def fetch_year_month(current_year: int, current_month: int, target_month: int):\n",
    "    if target_month < current_month:\n",
    "        return datetime(current_year + 1, target_month, 1).strftime('%y-%m-%d')\n",
    "    return datetime(current_year, target_month, 1).strftime('%y-%m-%d')\n",
    "\n",
    "time_keys = [\"pm\", \"am\"]\n",
    "date_keys = {\n",
    "    \"today\": datetime.now().strftime('%y-%m-%d'),\n",
    "    \"tonight\": datetime.now().strftime('%y-%m-%d'),\n",
    "    \"evening\": datetime.now().strftime('%y-%m-%d'),\n",
    "    \"morning\": datetime.now().strftime('%y-%m-%d'),\n",
    "    \"afternoon\": datetime.now().strftime('%y-%m-%d'),\n",
    "    \"tomorrow\": (datetime.now() + timedelta(days=1)).strftime('%y-%m-%d'),\n",
    "    \"monday\": fetch_days_ahead(0).strftime('%y-%m-%d'),\n",
    "    \"tuesday\": fetch_days_ahead(1).strftime('%y-%m-%d'),\n",
    "    \"wednesday\": fetch_days_ahead(2).strftime('%y-%m-%d'),\n",
    "    \"thursday\": fetch_days_ahead(3).strftime('%y-%m-%d'),\n",
    "    \"friday\": fetch_days_ahead(4).strftime('%y-%m-%d'),\n",
    "    \"saturday\": fetch_days_ahead(5).strftime('%y-%m-%d'),\n",
    "    \"sunday\": fetch_days_ahead(6).strftime('%y-%m-%d'),\n",
    "    \"january\": fetch_year_month(datetime.now().year, datetime.now().month, 1),\n",
    "    \"february\": fetch_year_month(datetime.now().year, datetime.now().month, 2),\n",
    "    \"march\": fetch_year_month(datetime.now().year, datetime.now().month, 3),\n",
    "    \"april\": fetch_year_month(datetime.now().year, datetime.now().month, 4),\n",
    "    \"may\": fetch_year_month(datetime.now().year, datetime.now().month, 5),\n",
    "    \"june\": fetch_year_month(datetime.now().year, datetime.now().month, 6),\n",
    "    \"july\": fetch_year_month(datetime.now().year, datetime.now().month, 7),\n",
    "    \"august\": fetch_year_month(datetime.now().year, datetime.now().month, 8),\n",
    "    \"september\": fetch_year_month(datetime.now().year, datetime.now().month, 9),\n",
    "    \"october\": fetch_year_month(datetime.now().year, datetime.now().month, 10),\n",
    "    \"november\": fetch_year_month(datetime.now().year, datetime.now().month, 11),\n",
    "    \"december\": fetch_year_month(datetime.now().year, datetime.now().month, 12)\n",
    "}"
   ]
  },
  {
   "cell_type": "code",
   "execution_count": null,
   "id": "34f8cb07",
   "metadata": {},
   "outputs": [
    {
     "ename": "SyntaxError",
     "evalue": "incomplete input (1352798431.py, line 13)",
     "output_type": "error",
     "traceback": [
      "  \u001b[36mCell\u001b[39m\u001b[36m \u001b[39m\u001b[32mIn[5]\u001b[39m\u001b[32m, line 13\u001b[39m\n\u001b[31m    \u001b[39m\n    ^\n\u001b[31mSyntaxError\u001b[39m\u001b[31m:\u001b[39m incomplete input\n"
     ]
    }
   ],
   "source": [
    "def compile_datetimes(input_text):\n",
    "    DateTimeSet.input_tokens = input_text.split(\" \")\n",
    "    for token in DateTimeSet.input_tokens:\n",
    "        if token in date_keys:\n",
    "            DateTimeSet.dates.append(token)\n",
    "        elif token in time_keys:\n",
    "            DateTimeSet.times.append(token)\n",
    "\n",
    "def organize_for_datetimes():\n",
    "    imply_dates = False\n",
    "    imply_times = False\n",
    "    if len(DateTimeSet.dates) < len(DateTimeSet.times):\n",
    "        imply_dates = True\n",
    "        if len(DateTimeSet.times) % len(DateTimeSet.dates) != 0:\n",
    "            raise ValueError(\"The number of times must be a multiple of the number of dates to imply dates correctly.\")\n",
    "    elif len(DateTimeSet.dates) > len(DateTimeSet.times):\n",
    "        imply_times = True\n",
    "        if len(DateTimeSet.dates) % len(DateTimeSet.times) != 0:\n",
    "            raise ValueError(\"The number of dates must be a multiple of the number of times to imply times correctly.\")\n",
    "    else:\n",
    "        for date, time in zip(DateTimeSet.dates, DateTimeSet.times):\n",
    "            DateTimeSet.datetimes.append(datetime.strptime(f\"{date} {time}\", '%y-%m-%d %I:%M%p'))\n",
    "            return\n",
    "        \n",
    "    if imply_dates:\n",
    "        for i in range(0, len(DateTimeSet.times), len(DateTimeSet.dates)):\n",
    "            for j, time in enumerate(DateTimeSet.times[i:i+len(DateTimeSet.dates)]):\n",
    "                date = DateTimeSet.dates[j % len(DateTimeSet.dates)]\n",
    "                DateTimeSet.datetimes.append(datetime.strptime(f\"{date} {time}\", '%y-%m-%d %I:%M%p'))\n",
    "    if imply_times:\n",
    "        for i in range(0, len(DateTimeSet.dates), len(DateTimeSet.times)):\n",
    "            for j, date in enumerate(DateTimeSet.dates[i:i+len(DateTimeSet.times)]):\n",
    "                time = DateTimeSet.times[j % len(DateTimeSet.times)]\n",
    "                DateTimeSet.datetimes.append(datetime.strptime(f\"{date} {time}\", '%y-%m-%d %I:%M%p'))\n"
   ]
  }
 ],
 "metadata": {
  "kernelspec": {
   "display_name": ".venv",
   "language": "python",
   "name": "python3"
  },
  "language_info": {
   "codemirror_mode": {
    "name": "ipython",
    "version": 3
   },
   "file_extension": ".py",
   "mimetype": "text/x-python",
   "name": "python",
   "nbconvert_exporter": "python",
   "pygments_lexer": "ipython3",
   "version": "3.12.9"
  }
 },
 "nbformat": 4,
 "nbformat_minor": 5
}
