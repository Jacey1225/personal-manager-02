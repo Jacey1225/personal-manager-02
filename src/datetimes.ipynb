{
 "cells": [
  {
   "cell_type": "code",
   "execution_count": 74,
   "id": "e387a759",
   "metadata": {},
   "outputs": [],
   "source": [
    "from datetime import datetime, timedelta, time\n",
    "from pydantic import BaseModel, Field\n",
    "from typing import Optional\n",
    "\n",
    "input_text = \"Monday at 12:00 PM\""
   ]
  },
  {
   "cell_type": "markdown",
   "id": "062240f0",
   "metadata": {},
   "source": [
    "1. We need to identify all date and time references in the input text\n",
    "- This can be done through keyword inferences and patterns such as the existence of PM or AM, months, days of the week, prefixes like st, th, nd, rd, etc., or other vague keywords like today, tomorrow, next week, etc.\n",
    "2. After doing this, we need to identify the length of each list, given that both must have the same length, and if one is less than the other, we make an implication that the other has the same date or time. With this in mind, we need to keep note that there must always occur a pair of two dates and times.\n",
    "- For this to work, we need to ensure that we get the right datetimes that correspond with each other. This can be done by taking an inference of the order that the dates or times were placed in. For example, a date such as \"tomorrow from 6pm to 7pm\", we can infer that tomorrow at 6pm refers to a date that comes before 7pm because it was referenced before. This is true for more complex requests such as \"From Monday from 5pm to 7pm to Tuesday from 5pm to 7pm.\" Here we see that there are two dates and four times, hwoever each date found has two times that follow it directly after. With this in mind we can infer that monday corresponds to 5pm to 7pm and tuesday is another date that corresponds to the time 5pm to 7pm as well.\n",
    "3. After locating these datetimes, we will convert them to datetime objects for easier processing going further\n",
    "4. Once we identify the correct start and end times that are being referenced, we need to now filter these times by checking if we are requesting just one date or two. This can be true for task requests that only take noe datetime as input. To do this, we fetch all the events and tasks that already exist for a user, and compare them against the datetimes we found in the input text. If we find a match, we will infer that the input text is not targetting this datetime as a datetime of interest."
   ]
  },
  {
   "cell_type": "code",
   "execution_count": 44,
   "id": "233a4749",
   "metadata": {},
   "outputs": [],
   "source": [
    "class DateTimeSet(BaseModel):\n",
    "    input_tokens: list[str] = Field(default=[], description=\"A list of all the input tokens found within an input text\")\n",
    "    times: list[time] = Field(default=[], description=\"A list of all the times found within an input text\")\n",
    "    dates: list[datetime] = Field(default=[], description=\"A list of all the dates found within an input text\")\n",
    "    datetimes: list[datetime] = Field(default=[], description=\"A list of all the datetime objects found within an input text\")\n",
    "    target_datetimes: list[tuple[datetime, None]] = Field(default=[], description=\"A list of all the target datetime objects found within an input text as tuples representing start and end or due and None\")\n",
    "    is_event: Optional[bool] = Field(default=False, description=\"Indicates whether the extracted datetimes are part of an event\")\n"
   ]
  },
  {
   "cell_type": "code",
   "execution_count": 53,
   "id": "aca29a5e",
   "metadata": {},
   "outputs": [],
   "source": [
    "def fetch_days_ahead(target_day: int, current_day=datetime.now()):\n",
    "    current_week_day = current_day.weekday()\n",
    "    days_ahead = (target_day - current_week_day) % 7\n",
    "    if days_ahead == 0:\n",
    "        days_ahead = 7\n",
    "\n",
    "    return current_day + timedelta(days=days_ahead)\n",
    "\n",
    "def fetch_year_month(current_year: int, current_month: int, target_month: int):\n",
    "    if target_month < current_month:\n",
    "        return datetime(current_year + 1, target_month, 1).strftime('%y-%m-%d')\n",
    "    return datetime(current_year, target_month, 1).strftime('%y-%m-%d')\n",
    "\n",
    "date_keys = {\n",
    "    \"today\": datetime.now().strftime('%y-%m-%d'),\n",
    "    \"tonight\": datetime.now().strftime('%y-%m-%d'),\n",
    "    \"evening\": datetime.now().strftime('%y-%m-%d'),\n",
    "    \"morning\": datetime.now().strftime('%y-%m-%d'),\n",
    "    \"afternoon\": datetime.now().strftime('%y-%m-%d'),\n",
    "    \"tomorrow\": (datetime.now() + timedelta(days=1)).strftime('%y-%m-%d'),\n",
    "    \"monday\": fetch_days_ahead(0).strftime('%y-%m-%d'),\n",
    "    \"tuesday\": fetch_days_ahead(1).strftime('%y-%m-%d'),\n",
    "    \"wednesday\": fetch_days_ahead(2).strftime('%y-%m-%d'),\n",
    "    \"thursday\": fetch_days_ahead(3).strftime('%y-%m-%d'),\n",
    "    \"friday\": fetch_days_ahead(4).strftime('%y-%m-%d'),\n",
    "    \"saturday\": fetch_days_ahead(5).strftime('%y-%m-%d'),\n",
    "    \"sunday\": fetch_days_ahead(6).strftime('%y-%m-%d'),\n",
    "    \"january\": fetch_year_month(datetime.now().year, datetime.now().month, 1),\n",
    "    \"february\": fetch_year_month(datetime.now().year, datetime.now().month, 2),\n",
    "    \"march\": fetch_year_month(datetime.now().year, datetime.now().month, 3),\n",
    "    \"april\": fetch_year_month(datetime.now().year, datetime.now().month, 4),\n",
    "    \"may\": fetch_year_month(datetime.now().year, datetime.now().month, 5),\n",
    "    \"june\": fetch_year_month(datetime.now().year, datetime.now().month, 6),\n",
    "    \"july\": fetch_year_month(datetime.now().year, datetime.now().month, 7),\n",
    "    \"august\": fetch_year_month(datetime.now().year, datetime.now().month, 8),\n",
    "    \"september\": fetch_year_month(datetime.now().year, datetime.now().month, 9),\n",
    "    \"october\": fetch_year_month(datetime.now().year, datetime.now().month, 10),\n",
    "    \"november\": fetch_year_month(datetime.now().year, datetime.now().month, 11),\n",
    "    \"december\": fetch_year_month(datetime.now().year, datetime.now().month, 12)\n",
    "}"
   ]
  },
  {
   "cell_type": "code",
   "execution_count": 75,
   "id": "34f8cb07",
   "metadata": {},
   "outputs": [
    {
     "name": "stdout",
     "output_type": "stream",
     "text": [
      "Found Times: [datetime.time(12, 0)]\n",
      "Found Dates: ['25-09-08']\n",
      "('input_tokens', ['Monday', 'at', '12:00', 'PM'])\n",
      "('times', [datetime.time(12, 0)])\n",
      "('dates', ['25-09-08'])\n",
      "('datetimes', [datetime.datetime(2025, 9, 8, 12, 0)])\n",
      "('target_datetimes', [])\n",
      "('is_event', False)\n"
     ]
    }
   ],
   "source": [
    "def compile_datetimes(input_text, datetime_set: DateTimeSet):\n",
    "    datetime_set.input_tokens = input_text.split(\" \")\n",
    "    for i, token in enumerate(datetime_set.input_tokens):\n",
    "        token = token.lower()\n",
    "        if token in date_keys:\n",
    "            datetime_set.dates.append(date_keys[token]) #type: ignore\n",
    "        if \":\" in token:\n",
    "            hour, minute = token.split(\":\")\n",
    "            if \"12:\" in token and \"am\" in datetime_set.input_tokens[i+1].lower():\n",
    "                hour = 0\n",
    "            if i < len(datetime_set.input_tokens) - 1 and \"pm\" in datetime_set.input_tokens[i+1].lower() and \"12:\" not in token:\n",
    "                hour = int(hour) + 12\n",
    "            datetime_set.times.append(time(int(hour), int(minute)))\n",
    "    print(f\"Found Times: {datetime_set.times}\")\n",
    "    print(f\"Found Dates: {datetime_set.dates}\")\n",
    "    return datetime_set\n",
    "\n",
    "def organize_for_datetimes(datetime_set: DateTimeSet):\n",
    "    imply_dates = False\n",
    "    imply_times = False\n",
    "    if len(datetime_set.dates) < len(datetime_set.times):\n",
    "        imply_dates = True\n",
    "        if len(datetime_set.times) % len(datetime_set.dates) != 0:\n",
    "            raise ValueError(\"The number of times must be a multiple of the number of dates to imply dates correctly.\")\n",
    "    elif len(datetime_set.dates) > len(datetime_set.times):\n",
    "        imply_times = True\n",
    "        if len(datetime_set.dates) % len(datetime_set.times) != 0:\n",
    "            raise ValueError(\"The number of dates must be a multiple of the number of times to imply times correctly.\")\n",
    "    else:\n",
    "        for date, time in zip(datetime_set.dates, datetime_set.times):\n",
    "            datetime_set.datetimes.append(datetime.strptime(f\"{date} {time}\", '%y-%m-%d %H:%M:%S'))\n",
    "        return datetime_set\n",
    "\n",
    "    print(f\"Implying dates: {imply_dates} \\nImplying times: {imply_times}\")\n",
    "    if imply_dates:\n",
    "        interval = len(datetime_set.times) // len(datetime_set.dates)\n",
    "        for i in range(0, len(datetime_set.times), interval):\n",
    "            for j in range(interval):\n",
    "                date = datetime_set.dates[i // interval]\n",
    "                time = datetime_set.times[i+j]\n",
    "                datetime_set.datetimes.append(datetime.strptime(f\"{date} {time}\", '%y-%m-%d %H:%M:%S'))\n",
    "\n",
    "    if imply_times:\n",
    "        interval = len(datetime_set.dates) // len(datetime_set.times)\n",
    "        for i in range(0, len(datetime_set.dates), interval):\n",
    "            for j in range(interval):\n",
    "                date = datetime_set.dates[i+j]\n",
    "                time = datetime_set.times[i // interval]\n",
    "                datetime_set.datetimes.append(datetime.strptime(f\"{date} {time}\", '%y-%m-%d %H:%M:%S'))\n",
    "    return datetime_set\n",
    "\n",
    "datetime_set = DateTimeSet()\n",
    "datetime_set = compile_datetimes(input_text, datetime_set)\n",
    "datetime_set = organize_for_datetimes(datetime_set)\n",
    "if datetime_set:\n",
    "    for dt in datetime_set:\n",
    "        print(dt)\n"
   ]
  }
 ],
 "metadata": {
  "kernelspec": {
   "display_name": ".venv",
   "language": "python",
   "name": "python3"
  },
  "language_info": {
   "codemirror_mode": {
    "name": "ipython",
    "version": 3
   },
   "file_extension": ".py",
   "mimetype": "text/x-python",
   "name": "python",
   "nbconvert_exporter": "python",
   "pygments_lexer": "ipython3",
   "version": "3.12.9"
  }
 },
 "nbformat": 4,
 "nbformat_minor": 5
}
